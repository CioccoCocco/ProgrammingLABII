{
 "cells": [
  {
   "cell_type": "markdown",
   "metadata": {},
   "source": [
    "# Plotly\n",
    "\n",
    "**Plotly** è una libreria di visualizzazione dati interattiva, utilizzata in Python (e altri linguaggi) per creare grafici dinamici, eleganti e altamente personalizzabili. È molto utile in ambito di analisi dati, data science e applicazioni web.\n",
    "\n",
    "## Caratteristiche principali\n",
    "\n",
    "- **Grafici interattivi**: supporta zoom, pan, hover e selezioni.\n",
    "- **Supporto a grafici avanzati**: come grafici 3D, mappe geografiche, heatmap, subplots e molto altro.\n",
    "- **Facile integrazione**: compatibile con Jupyter Notebook, Dash,  Django.\n",
    "- **Esportazione**: esporta i grafici in HTML, PNG, JPEG, SVG, PDF.\n",
    "- **Compatibilità**: funziona con Pandas, NumPy e altre librerie scientifiche.\n",
    "\n",
    "Sito ufficiale: https://plotly.com/python/\n"
   ]
  },
  {
   "cell_type": "code",
   "execution_count": 1,
   "metadata": {},
   "outputs": [],
   "source": [
    "import pandas as pd\n",
    "import seaborn as sns\n",
    "\n",
    "from pandas.plotting import scatter_matrix\n",
    "from matplotlib import pyplot as plotly  # NB: attenzione: qui si sta rinominando pyplot come 'plotly'\n",
    "from matplotlib import font_manager as font_manager\n",
    "from datetime import datetime, timedelta\n",
    "import numpy as np\n",
    "\n",
    "\n",
    "import plotly.figure_factory as ff"
   ]
  },
  {
   "cell_type": "code",
   "execution_count": null,
   "metadata": {},
   "outputs": [],
   "source": [
    "import plotly.express as px\n",
    "\n",
    "df = pd.read_csv(\"../../data/shampoo_sales.csv\")\n",
    "df[\"MonthIndex\"] = range(len(df))\n",
    "df.head()"
   ]
  },
  {
   "cell_type": "markdown",
   "metadata": {},
   "source": [
    "### Grafico in linea"
   ]
  },
  {
   "cell_type": "code",
   "execution_count": null,
   "metadata": {},
   "outputs": [],
   "source": [
    "fig = px.line(df, x=\"MonthIndex\", y = \"Sales\", title = \"Vendite Mensili di shampi\" )\n",
    "\n",
    "fig.show()"
   ]
  },
  {
   "cell_type": "markdown",
   "metadata": {},
   "source": [
    "### Grafico multilinea con marcatori"
   ]
  },
  {
   "cell_type": "code",
   "execution_count": null,
   "metadata": {},
   "outputs": [],
   "source": [
    "import plotly.graph_objects as go\n",
    "\n",
    "# Nomi di studenti\n",
    "studenti = ['Giulia', 'Marco', 'Elena', 'Luca']\n",
    "\n",
    "# Voti in diverse materie (in trentesimi)\n",
    "italiano = [28, 25, 30, 27]\n",
    "matematica = [26, 29, 24, 30]\n",
    "informatica = [30, 28, 29, 27]\n",
    "storia = [27, 26, 28, 30]\n",
    "\n",
    "fig = go.Figure()\n",
    "\n",
    "fig.add_trace(go.Scatter(x=studenti, y=italiano, name=\"Italiano\",\n",
    "                         mode='lines+markers',\n",
    "                         line=dict(color=\"blue\", width=4)))\n",
    "\n",
    "fig.add_trace(go.Scatter(x=studenti, y=matematica, name=\"Matematica\",\n",
    "                         mode='lines+markers',\n",
    "                         line=dict(color=\"red\", width=4)))\n",
    "\n",
    "fig.add_trace(go.Scatter(x=studenti, y=informatica, name=\"Informatica\",\n",
    "                         mode='lines+markers',\n",
    "                         line=dict(color=\"green\", width=4, dash='dash')))\n",
    "\n",
    "fig.add_trace(go.Scatter(x=studenti, y=storia, name=\"Storia\",\n",
    "                         mode='lines+markers',\n",
    "                         line=dict(color=\"firebrick\", width=4, dash='dot')))\n",
    "\n",
    "fig.update_layout(\n",
    "    title=\"Voti degli studenti\",\n",
    "    xaxis_title=\"Studente\",\n",
    "    yaxis_title=\"Voto\",\n",
    "    yaxis=dict(range=[20, 31])\n",
    ")\n",
    "\n",
    "fig.show()\n"
   ]
  },
  {
   "cell_type": "markdown",
   "metadata": {},
   "source": [
    "Utile quando:\n",
    "- Hai più variabili da confrontare su un insieme comune (es. studenti, anni, prodotti...).\n",
    "- Vuoi una visualizzazione compatta, leggibile, e con dettagli sui punti."
   ]
  },
  {
   "cell_type": "code",
   "execution_count": null,
   "metadata": {},
   "outputs": [],
   "source": [
    "# Simula voti casuali (18–30) per 20 studenti e 6 materie\n",
    "np.random.seed(0)\n",
    "studenti = [f'Studente {i}' for i in range(1, 21)]\n",
    "materie = ['Italiano', 'Matematica', 'Storia', 'Inglese', 'Fisica', 'Informatica']\n",
    "voti = np.random.randint(18, 31, size=(20, len(materie)))\n",
    "\n",
    "# Crea la heatmap\n",
    "fig = go.Figure(data=go.Heatmap(\n",
    "    z=voti,\n",
    "    x=materie,\n",
    "    y=studenti,\n",
    "    colorscale='YlGnBu',\n",
    "    zmin=18,\n",
    "    zmax=30,\n",
    "    colorbar=dict(title='Voto')\n",
    "))\n",
    "\n",
    "fig.update_layout(\n",
    "    title='Voti degli studenti per materia',\n",
    "    xaxis_title='Materia',\n",
    "    yaxis_title='Studente'\n",
    ")\n",
    "\n",
    "fig.show()\n"
   ]
  },
  {
   "cell_type": "markdown",
   "metadata": {
    "slideshow": {
     "slide_type": "subslide"
    }
   },
   "source": [
    "### Bar Plot"
   ]
  },
  {
   "cell_type": "code",
   "execution_count": null,
   "metadata": {},
   "outputs": [],
   "source": [
    "df = sns.load_dataset('titanic')\n",
    "df.head(20)"
   ]
  },
  {
   "cell_type": "code",
   "execution_count": null,
   "metadata": {},
   "outputs": [],
   "source": [
    "fig = px.histogram(df, x='pclass', color='sex', barmode='group',\n",
    "                   title='Numero di passeggeri per classe e sesso')\n",
    "fig.show()"
   ]
  },
  {
   "cell_type": "code",
   "execution_count": null,
   "metadata": {},
   "outputs": [],
   "source": [
    "# Area Chart\n",
    "fig = px.area(df, x='sex', y='age', color='survived',\n",
    "              title=\"Area plot for Passenger status by gender and age\")\n",
    "\n",
    "fig.show()"
   ]
  },
  {
   "cell_type": "code",
   "execution_count": null,
   "metadata": {},
   "outputs": [],
   "source": [
    "\n",
    "# Stacked area chart\n",
    "stud = ['Rave', 'Leo', 'Steve']\n",
    "\n",
    "fig = go.Figure()\n",
    "\n",
    "fig.add_trace(go.Scatter(\n",
    "    x=stud, y=[40, 10, 20],\n",
    "    hoverinfo='x+y',\n",
    "    mode='lines',\n",
    "    line=dict(width=0.6, color='rgb(172,89,200)'),\n",
    "    stackgroup='one'\n",
    "))\n",
    "\n",
    "fig.add_trace(go.Scatter(\n",
    "    x=stud, y=[50, 5, 2],\n",
    "    hoverinfo='x+y',\n",
    "    mode='lines',\n",
    "    line=dict(width=0.6, color='rgb(100,51,190)'),\n",
    "    stackgroup='one'\n",
    "))\n",
    "\n",
    "fig.show()"
   ]
  },
  {
   "cell_type": "code",
   "execution_count": null,
   "metadata": {},
   "outputs": [],
   "source": [
    "\n",
    "# Pie chart\n",
    "stud = ['Leo', 'Steve', 'Claire', 'Caprio', 'Sharman', 'Kiya']\n",
    "marks = [34, 56, 76, 87, 45, 90, 91]\n",
    "\n",
    "# Assicurati che la lunghezza di 'pull' corrisponda a quella di 'stud'\n",
    "fig = go.Figure(data=[\n",
    "    go.Pie(\n",
    "        labels=stud,\n",
    "        values=marks,\n",
    "        pull=[0, 0, 0, 0.2, 0, 0]  # Caprio evidenziato\n",
    "    )\n",
    "])\n",
    "\n",
    "fig.update_traces(textposition='inside', textinfo='percent+label')\n",
    "fig.update_layout(title=\"Students and their marks\")\n",
    "\n",
    "fig.show()\n"
   ]
  },
  {
   "cell_type": "code",
   "execution_count": null,
   "metadata": {},
   "outputs": [],
   "source": [
    "# Dati\n",
    "stud = ['Leo', 'Steve', 'Claire', 'Caprio', 'Sharman', 'Kiya']\n",
    "teacher = ['Steve', \"\", 'Caprio', 'Leo', 'Steve', 'Sharman']\n",
    "marks = [34, 56, 76, 87, 45, 90]\n",
    "\n",
    "# Sunburst chart\n",
    "fig = go.Figure(go.Sunburst(\n",
    "    labels=stud,\n",
    "    parents=teacher,\n",
    "    values=marks\n",
    "))\n",
    "\n",
    "fig.update_layout(margin=dict(t=1, l=1, r=1, b=1))\n",
    "fig.show()"
   ]
  },
  {
   "cell_type": "code",
   "execution_count": null,
   "metadata": {},
   "outputs": [],
   "source": [
    "labels = [\"World\", \"Europe\", \"Italy\", \"Rome\", \"Milan\"]\n",
    "parents = [\"\", \"World\", \"Europe\", \"Italy\", \"Italy\"]\n",
    "values = [150, 100, 70, 40, 30]  # 40+30=70 (ok), 70+30=100 (ok), ecc.\n",
    "\n",
    "fig = go.Figure(go.Sunburst(\n",
    "    labels=labels,\n",
    "    parents=parents,\n",
    "    values=values,\n",
    "    branchvalues='total'  # tutti i genitori includono il valore dei figli\n",
    "))\n",
    "\n",
    "fig.update_layout(margin=dict(t=0, l=0, r=0, b=0))\n",
    "fig.show()"
   ]
  },
  {
   "cell_type": "code",
   "execution_count": null,
   "metadata": {},
   "outputs": [],
   "source": [
    "import plotly.express as px\n",
    "\n",
    "df = sns.load_dataset('iris')  \n",
    "# va bene anche  px.data.iris()\n",
    "df.head()"
   ]
  },
  {
   "cell_type": "code",
   "execution_count": null,
   "metadata": {},
   "outputs": [],
   "source": [
    "fig = px.scatter(df, x=\"sepal_width\", y=\"sepal_length\", color=\"species\")\n",
    "fig.show()\n"
   ]
  },
  {
   "cell_type": "code",
   "execution_count": null,
   "metadata": {},
   "outputs": [],
   "source": [
    "# Caricamento dataset Iris\n",
    "iris = sns.load_dataset('iris')  # oppure: pd.read_csv(...) se usi un file\n",
    "\n",
    "# Scatter plot\n",
    "fig = px.scatter(\n",
    "    iris,\n",
    "    x=\"petal_length\",\n",
    "    y=\"petal_width\",\n",
    "    color=\"species\",\n",
    "    size=\"sepal_width\",\n",
    "    hover_data=['sepal_length'],\n",
    "    title=\"Scatter plot of Iris Dataset\"\n",
    ")\n",
    "\n",
    "fig.show()"
   ]
  },
  {
   "cell_type": "code",
   "execution_count": null,
   "metadata": {},
   "outputs": [],
   "source": [
    "# Genera griglia di punti\n",
    "x = np.linspace(-6, 6, 100)\n",
    "y = np.linspace(-6, 6, 100)\n",
    "x, y = np.meshgrid(x, y)\n",
    "\n",
    "# Definisce la funzione\n",
    "z = np.sinc(np.sqrt(x**2 + y**2) / np.pi)  # sinc(x) = sin(pi x)/(pi x)\n",
    "\n",
    "# Crea la figura 3D\n",
    "fig = go.Figure(data=[go.Surface(z=z, x=x, y=y, colorscale='Viridis')])\n",
    "\n",
    "fig.update_layout(\n",
    "    title='Superficie 3D: sinc(sqrt(x² + y²))',\n",
    "    scene=dict(\n",
    "        xaxis_title='x',\n",
    "        yaxis_title='y',\n",
    "        zaxis_title='z'\n",
    "    )\n",
    ")\n",
    "\n",
    "fig.show()\n"
   ]
  },
  {
   "cell_type": "code",
   "execution_count": null,
   "metadata": {},
   "outputs": [],
   "source": []
  }
 ],
 "metadata": {
  "kernelspec": {
   "display_name": "Python 3",
   "language": "python",
   "name": "python3"
  },
  "language_info": {
   "codemirror_mode": {
    "name": "ipython",
    "version": 3
   },
   "file_extension": ".py",
   "mimetype": "text/x-python",
   "name": "python",
   "nbconvert_exporter": "python",
   "pygments_lexer": "ipython3",
   "version": "3.10.16"
  }
 },
 "nbformat": 4,
 "nbformat_minor": 2
}
